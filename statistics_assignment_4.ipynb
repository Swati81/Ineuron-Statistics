{
 "cells": [
  {
   "cell_type": "markdown",
   "metadata": {},
   "source": [
    "# Problem Statement 1:\n",
    "Is gender independent of education level? A random sample of 395 people were\n",
    "surveyed and each person was asked to report the highest education level they\n",
    "obtained. The data that resulted from the survey is summarized in the following table:\n",
    "\n",
    "Female : \n",
    "\n",
    "High School=60\n",
    "\n",
    "Bachelors=54\n",
    "\n",
    "Masters = 46 \n",
    "\n",
    "Ph.d.= 41 \n",
    "\n",
    "Total=201\n",
    "\n",
    "Male:\n",
    "\n",
    "High School= 40 \n",
    "\n",
    "Bachelors=44 \n",
    "\n",
    "Masters = 53\n",
    "\n",
    "Ph.d.= 57\n",
    "\n",
    "Total=194\n",
    "\n",
    "Total_High School=100\n",
    "\n",
    "Total_Bachelors = 99 \n",
    "\n",
    "Total_Masters = 98 \n",
    "\n",
    "Total_Ph.d.=395\n",
    "\n",
    "Question: Are gender and education level dependent at 5% level of significance? In\n",
    "other words, given the data collected above, is there a relationship between the\n",
    "gender of an individual and the level of education that they have obtained?"
   ]
  },
  {
   "cell_type": "code",
   "execution_count": 4,
   "metadata": {},
   "outputs": [],
   "source": [
    "import numpy as np\n",
    "import pandas as pd\n",
    "import math"
   ]
  },
  {
   "cell_type": "code",
   "execution_count": 48,
   "metadata": {},
   "outputs": [],
   "source": [
    "dict = {'High_School':[60,40],'Bachelors':[54,44],'Masters':[46,53], 'Ph.d.':[41,57] ,'Total':[201,194]}"
   ]
  },
  {
   "cell_type": "code",
   "execution_count": 49,
   "metadata": {},
   "outputs": [],
   "source": [
    "lst=[100 ,98 ,99 ,98,395]"
   ]
  },
  {
   "cell_type": "code",
   "execution_count": 50,
   "metadata": {
    "collapsed": true
   },
   "outputs": [
    {
     "data": {
      "text/html": [
       "<div>\n",
       "<style scoped>\n",
       "    .dataframe tbody tr th:only-of-type {\n",
       "        vertical-align: middle;\n",
       "    }\n",
       "\n",
       "    .dataframe tbody tr th {\n",
       "        vertical-align: top;\n",
       "    }\n",
       "\n",
       "    .dataframe thead th {\n",
       "        text-align: right;\n",
       "    }\n",
       "</style>\n",
       "<table border=\"1\" class=\"dataframe\">\n",
       "  <thead>\n",
       "    <tr style=\"text-align: right;\">\n",
       "      <th></th>\n",
       "      <th>High_School</th>\n",
       "      <th>Bachelors</th>\n",
       "      <th>Masters</th>\n",
       "      <th>Ph.d.</th>\n",
       "      <th>Total</th>\n",
       "    </tr>\n",
       "  </thead>\n",
       "  <tbody>\n",
       "    <tr>\n",
       "      <th>Female</th>\n",
       "      <td>60</td>\n",
       "      <td>54</td>\n",
       "      <td>46</td>\n",
       "      <td>41</td>\n",
       "      <td>201</td>\n",
       "    </tr>\n",
       "    <tr>\n",
       "      <th>Male</th>\n",
       "      <td>40</td>\n",
       "      <td>44</td>\n",
       "      <td>53</td>\n",
       "      <td>57</td>\n",
       "      <td>194</td>\n",
       "    </tr>\n",
       "  </tbody>\n",
       "</table>\n",
       "</div>"
      ],
      "text/plain": [
       "        High_School  Bachelors  Masters  Ph.d.  Total\n",
       "Female           60         54       46     41    201\n",
       "Male             40         44       53     57    194"
      ]
     },
     "execution_count": 50,
     "metadata": {},
     "output_type": "execute_result"
    }
   ],
   "source": [
    "df = pd.DataFrame(dict,index=['Female','Male'])\n",
    "df"
   ]
  },
  {
   "cell_type": "code",
   "execution_count": 51,
   "metadata": {
    "collapsed": true
   },
   "outputs": [
    {
     "data": {
      "text/html": [
       "<div>\n",
       "<style scoped>\n",
       "    .dataframe tbody tr th:only-of-type {\n",
       "        vertical-align: middle;\n",
       "    }\n",
       "\n",
       "    .dataframe tbody tr th {\n",
       "        vertical-align: top;\n",
       "    }\n",
       "\n",
       "    .dataframe thead th {\n",
       "        text-align: right;\n",
       "    }\n",
       "</style>\n",
       "<table border=\"1\" class=\"dataframe\">\n",
       "  <thead>\n",
       "    <tr style=\"text-align: right;\">\n",
       "      <th></th>\n",
       "      <th>High_School</th>\n",
       "      <th>Bachelors</th>\n",
       "      <th>Masters</th>\n",
       "      <th>Ph.d.</th>\n",
       "      <th>Total</th>\n",
       "    </tr>\n",
       "  </thead>\n",
       "  <tbody>\n",
       "    <tr>\n",
       "      <th>TOTAL</th>\n",
       "      <td>100</td>\n",
       "      <td>98</td>\n",
       "      <td>99</td>\n",
       "      <td>98</td>\n",
       "      <td>395</td>\n",
       "    </tr>\n",
       "  </tbody>\n",
       "</table>\n",
       "</div>"
      ],
      "text/plain": [
       "       High_School  Bachelors  Masters  Ph.d.  Total\n",
       "TOTAL          100         98       99     98    395"
      ]
     },
     "execution_count": 51,
     "metadata": {},
     "output_type": "execute_result"
    }
   ],
   "source": [
    "df1 = pd.DataFrame(lst,columns=['TOTAL'],index=['High_School', 'Bachelors', 'Masters' ,'Ph.d.','Total']).T\n",
    "df1"
   ]
  },
  {
   "cell_type": "code",
   "execution_count": 97,
   "metadata": {},
   "outputs": [
    {
     "data": {
      "text/html": [
       "<div>\n",
       "<style scoped>\n",
       "    .dataframe tbody tr th:only-of-type {\n",
       "        vertical-align: middle;\n",
       "    }\n",
       "\n",
       "    .dataframe tbody tr th {\n",
       "        vertical-align: top;\n",
       "    }\n",
       "\n",
       "    .dataframe thead th {\n",
       "        text-align: right;\n",
       "    }\n",
       "</style>\n",
       "<table border=\"1\" class=\"dataframe\">\n",
       "  <thead>\n",
       "    <tr style=\"text-align: right;\">\n",
       "      <th></th>\n",
       "      <th>High_School</th>\n",
       "      <th>Bachelors</th>\n",
       "      <th>Masters</th>\n",
       "      <th>Ph.d.</th>\n",
       "      <th>Total</th>\n",
       "    </tr>\n",
       "  </thead>\n",
       "  <tbody>\n",
       "    <tr>\n",
       "      <th>Female</th>\n",
       "      <td>60</td>\n",
       "      <td>54</td>\n",
       "      <td>46</td>\n",
       "      <td>41</td>\n",
       "      <td>201</td>\n",
       "    </tr>\n",
       "    <tr>\n",
       "      <th>Male</th>\n",
       "      <td>40</td>\n",
       "      <td>44</td>\n",
       "      <td>53</td>\n",
       "      <td>57</td>\n",
       "      <td>194</td>\n",
       "    </tr>\n",
       "    <tr>\n",
       "      <th>TOTAL</th>\n",
       "      <td>100</td>\n",
       "      <td>98</td>\n",
       "      <td>99</td>\n",
       "      <td>98</td>\n",
       "      <td>395</td>\n",
       "    </tr>\n",
       "  </tbody>\n",
       "</table>\n",
       "</div>"
      ],
      "text/plain": [
       "        High_School  Bachelors  Masters  Ph.d.  Total\n",
       "Female           60         54       46     41    201\n",
       "Male             40         44       53     57    194\n",
       "TOTAL           100         98       99     98    395"
      ]
     },
     "execution_count": 97,
     "metadata": {},
     "output_type": "execute_result"
    }
   ],
   "source": [
    "Observed_table = pd.concat([df,df1],0)\n",
    "Observed_table"
   ]
  },
  {
   "cell_type": "code",
   "execution_count": 98,
   "metadata": {},
   "outputs": [
    {
     "name": "stdout",
     "output_type": "stream",
     "text": [
      "[50.166666666666664, 49.0, 49.833333333333336, 48.833333333333336, 50.0, 48.666666666666664, 49.833333333333336, 48.666666666666664]"
     ]
    }
   ],
   "source": [
    "E_Hf=(201+100)/6\n",
    "E_Bf=(201+98)/6\n",
    "E_Mf=(201+99)/6\n",
    "E_Pf=(201+98)/6\n",
    "E_Hm=(194+100)/6\n",
    "E_Bm=(194+99)/6\n",
    "E_Mm=(194+98)/6\n",
    "E_Pm=(194+98)/6\n",
    "lst1=[E_Hf,E_Hm,E_Bf,E_Bm,E_Mf,E_Mm,E_Pf,E_Pm]\n",
    "print(lst1,end='')"
   ]
  },
  {
   "cell_type": "markdown",
   "metadata": {},
   "source": [
    "E_Hf=50.16  E_Hm=49\n",
    "\n",
    "E_Bf=49.833 E_Bm=48.833\n",
    "\n",
    "E_Mf=50 E_Mm=48.66\n",
    "\n",
    "E_Pf=49.833 E_Pm=48.66"
   ]
  },
  {
   "cell_type": "code",
   "execution_count": 99,
   "metadata": {},
   "outputs": [],
   "source": [
    "dict1 = {'High_School':[50.16,49],'Bachelors':[49.833,48.833],'Masters':[50,48.66], 'Ph.d.':[49.833,48.666] ,'Total':[201,194]}"
   ]
  },
  {
   "cell_type": "code",
   "execution_count": 100,
   "metadata": {},
   "outputs": [
    {
     "data": {
      "text/html": [
       "<div>\n",
       "<style scoped>\n",
       "    .dataframe tbody tr th:only-of-type {\n",
       "        vertical-align: middle;\n",
       "    }\n",
       "\n",
       "    .dataframe tbody tr th {\n",
       "        vertical-align: top;\n",
       "    }\n",
       "\n",
       "    .dataframe thead th {\n",
       "        text-align: right;\n",
       "    }\n",
       "</style>\n",
       "<table border=\"1\" class=\"dataframe\">\n",
       "  <thead>\n",
       "    <tr style=\"text-align: right;\">\n",
       "      <th></th>\n",
       "      <th>High_School</th>\n",
       "      <th>Bachelors</th>\n",
       "      <th>Masters</th>\n",
       "      <th>Ph.d.</th>\n",
       "      <th>Total</th>\n",
       "    </tr>\n",
       "  </thead>\n",
       "  <tbody>\n",
       "    <tr>\n",
       "      <th>Female</th>\n",
       "      <td>50.16</td>\n",
       "      <td>49.833</td>\n",
       "      <td>50.00</td>\n",
       "      <td>49.833</td>\n",
       "      <td>201</td>\n",
       "    </tr>\n",
       "    <tr>\n",
       "      <th>Male</th>\n",
       "      <td>49.00</td>\n",
       "      <td>48.833</td>\n",
       "      <td>48.66</td>\n",
       "      <td>48.666</td>\n",
       "      <td>194</td>\n",
       "    </tr>\n",
       "  </tbody>\n",
       "</table>\n",
       "</div>"
      ],
      "text/plain": [
       "        High_School  Bachelors  Masters   Ph.d.  Total\n",
       "Female        50.16     49.833    50.00  49.833    201\n",
       "Male          49.00     48.833    48.66  48.666    194"
      ]
     },
     "execution_count": 100,
     "metadata": {},
     "output_type": "execute_result"
    }
   ],
   "source": [
    "Expectation_table = pd.DataFrame(dict1,index=['Female','Male'])\n",
    "Expectation_table"
   ]
  },
  {
   "cell_type": "markdown",
   "metadata": {},
   "source": [
    "So, deg_of freedom = (4-1)=3\n",
    "\n",
    "chi(3,0.05)=7.815"
   ]
  },
  {
   "cell_type": "code",
   "execution_count": 63,
   "metadata": {},
   "outputs": [],
   "source": [
    "O=[60,54,46,41,40,44,53,57]\n",
    "E=[50.16,49.833,50,49.833,49,48.833,48.66,48.666]\n",
    "def Relation_gender(O,E,ch=1):\n",
    "    chi=0\n",
    "    for i in range(len(O)):\n",
    "        chi = chi + (O[i]-E[i])**2/E[i]\n",
    "    if chi < ch:\n",
    "        print(\"Null Hypothesis is accepted... \")\n",
    "        print(\"so,the education level doesn't depends on gender.\" )\n",
    "    else:\n",
    "        print(\"Null Hypothesis is rejected...\")\n",
    "        print(\"so,the education level does depends on gender.\" )\n",
    "    return round(chi,3)"
   ]
  },
  {
   "cell_type": "code",
   "execution_count": 64,
   "metadata": {
    "collapsed": true
   },
   "outputs": [
    {
     "name": "stdout",
     "output_type": "stream",
     "text": [
      "Null Hypothesis is rejected...\n",
      "so,the education level does depends on gender.\n"
     ]
    },
    {
     "data": {
      "text/plain": [
       "8.11"
      ]
     },
     "execution_count": 64,
     "metadata": {},
     "output_type": "execute_result"
    }
   ],
   "source": [
    "Relation_gender(O,E,ch=7.815)"
   ]
  },
  {
   "cell_type": "markdown",
   "metadata": {},
   "source": [
    "# Problem Statement 2:\n",
    "Using the following data, perform a oneway analysis of variance using α=.05. Write\n",
    "up the results in APA format.\n",
    "\n",
    "[Group1: 51, 45, 33, 45, 67]\n",
    "\n",
    "[Group2: 23, 43, 23, 43, 45]\n",
    "\n",
    "[Group3: 56, 76, 74, 87, 56]"
   ]
  },
  {
   "cell_type": "code",
   "execution_count": 67,
   "metadata": {},
   "outputs": [],
   "source": [
    "import statistics as st"
   ]
  },
  {
   "cell_type": "markdown",
   "metadata": {},
   "source": [
    "**Here total no. sample, k = 3 & total no. of data, n = len(Group1)+len(Group2)+len(Group3) = 15"
   ]
  },
  {
   "cell_type": "code",
   "execution_count": 68,
   "metadata": {},
   "outputs": [],
   "source": [
    "Group1=[51, 45, 33, 45, 67]\n",
    "\n",
    "Group2=[23, 43, 23, 43, 45]\n",
    "\n",
    "Group3=[56, 76, 74, 87, 56]\n",
    "Group = [Group1,Group2,Group3]\n",
    "k = len(Group)\n",
    "n = len(Group1)+len(Group2)+len(Group3)"
   ]
  },
  {
   "cell_type": "code",
   "execution_count": 75,
   "metadata": {},
   "outputs": [],
   "source": [
    "def sample(Group):\n",
    "    mean = st.mean(Group)\n",
    "    p=0\n",
    "    for i in Group:\n",
    "        p = p + (i-mean)**2\n",
    "    return mean,p\n",
    "\n",
    "m1,p1 = sample(Group1)\n",
    "m2,p2 = sample(Group2)\n",
    "m3,p3 = sample(Group3)\n",
    "\n",
    "\n",
    "#make another two lists of mean for each data-sets and SSw for each data-sets\n",
    "lst1 = [m1,m2,m3]\n",
    "lst2 = [p1,p2,p3]"
   ]
  },
  {
   "cell_type": "code",
   "execution_count": 76,
   "metadata": {},
   "outputs": [],
   "source": [
    "def mean_between(lst=lst1):\n",
    "    grand_mean = round(st.mean(lst),3)\n",
    "    SSf = 0\n",
    "    for i in range(k):\n",
    "        SSf = SSf + len(Group[i])*(lst[i]- grand_mean)**2\n",
    "    MUf = SSf/(k-1)\n",
    "    return round(MUf,2)\n",
    "\n",
    "muf = mean_between(lst=lst1)"
   ]
  },
  {
   "cell_type": "code",
   "execution_count": 77,
   "metadata": {},
   "outputs": [],
   "source": [
    "def mean_within(lst=lst2):\n",
    "    SSw = np.sum(lst)\n",
    "    MUw = SSw/(n-k)\n",
    "    return round(MUw,2)\n",
    "\n",
    "muw = mean_within(lst=lst2)"
   ]
  },
  {
   "cell_type": "markdown",
   "metadata": {},
   "source": [
    "Here asuming significance level = 0.05, and degree of freedom = (n-k) = (15-3) = 12 for data & for sample = (3-1) = 2, we will get FScore = 3.88"
   ]
  },
  {
   "cell_type": "code",
   "execution_count": 78,
   "metadata": {},
   "outputs": [],
   "source": [
    "def anova_test(muf,muw,f=3.88):\n",
    "    F_score = muf/muw\n",
    "    if F_score < f :\n",
    "        print(\"Null Hypothesis is accepted...\")\n",
    "        print(\"So, data-sets are similar...\")\n",
    "    else:\n",
    "        print(\"Null Hypothesis is rejected...\")\n",
    "        print(\"So, data-sets are not similar...\")\n",
    "    return round(F_score,2)"
   ]
  },
  {
   "cell_type": "code",
   "execution_count": 81,
   "metadata": {},
   "outputs": [
    {
     "name": "stdout",
     "output_type": "stream",
     "text": [
      "Null Hypothesis is rejected...\n",
      "So, data-sets are not similar...\n"
     ]
    },
    {
     "data": {
      "text/plain": [
       "9.75"
      ]
     },
     "execution_count": 81,
     "metadata": {},
     "output_type": "execute_result"
    }
   ],
   "source": [
    "anova_test(muf,muw,f=3.88)"
   ]
  },
  {
   "cell_type": "markdown",
   "metadata": {},
   "source": [
    "# Problem Statement 3:\n",
    "Calculate F Test for given 10, 20, 30, 40, 50 and 5,10,15, 20, 25.\n",
    "For 10, 20, 30, 40, 50:"
   ]
  },
  {
   "cell_type": "markdown",
   "metadata": {},
   "source": [
    "A=[10, 20, 30, 40, 50]\n",
    "\n",
    "B=[5,10,15, 20, 25]\n",
    "\n",
    "C=[10, 20, 30, 40, 50]\n",
    "\n",
    "**Here total no. sample, k = 3 & total no. of data, n = len(A)+len(B)+len(C) = 15"
   ]
  },
  {
   "cell_type": "code",
   "execution_count": 85,
   "metadata": {},
   "outputs": [],
   "source": [
    "A=[10, 20, 30, 40, 50]\n",
    "\n",
    "B=[5,10,15, 20, 25]\n",
    "\n",
    "C=[10, 20, 30, 40, 50]\n",
    "\n",
    "D = [A,B,C]\n",
    "k = len(D)\n",
    "n = len(A)+len(B)+len(C)"
   ]
  },
  {
   "cell_type": "code",
   "execution_count": 92,
   "metadata": {},
   "outputs": [],
   "source": [
    "def sample(D):\n",
    "    mean = st.mean(D)\n",
    "    p=0\n",
    "    for i in D:\n",
    "        p = p + (i-mean)**2\n",
    "    return mean,p\n",
    "\n",
    "m1,p1 = sample(A)\n",
    "m2,p2 = sample(B)\n",
    "m3,p3 = sample(C)\n",
    "\n",
    "\n",
    "#make another two lists of mean for each data-sets and SSw for each data-sets\n",
    "lst1 = [m1,m2,m3]\n",
    "lst2 = [p1,p2,p3]"
   ]
  },
  {
   "cell_type": "code",
   "execution_count": 93,
   "metadata": {},
   "outputs": [],
   "source": [
    "def mean_between(lst=lst1):\n",
    "    grand_mean = round(st.mean(lst),3)\n",
    "    SSf = 0\n",
    "    for i in range(k):\n",
    "        SSf = SSf + len(Group[i])*(lst[i]- grand_mean)**2\n",
    "    MUf = SSf/(k-1)\n",
    "    return round(MUf,2)\n",
    "\n",
    "muf = mean_between(lst=lst1)"
   ]
  },
  {
   "cell_type": "code",
   "execution_count": 94,
   "metadata": {},
   "outputs": [],
   "source": [
    "def mean_within(lst=lst2):\n",
    "    SSw = np.sum(lst)\n",
    "    MUw = SSw/(n-k)\n",
    "    return round(MUw,2)\n",
    "\n",
    "muw = mean_within(lst=lst2)"
   ]
  },
  {
   "cell_type": "markdown",
   "metadata": {},
   "source": [
    "Here asuming significance level = 0.05, and degree of freedom = (n-k) = (15-3) = 12 for data & for sample = (3-1) = 2, we will get FScore = 3.88"
   ]
  },
  {
   "cell_type": "code",
   "execution_count": 95,
   "metadata": {},
   "outputs": [],
   "source": [
    "def anova_test(muf,muw,f=3.88):\n",
    "    F_score = muf/muw\n",
    "    if F_score < f :\n",
    "        print(\"Null Hypothesis is accepted...\")\n",
    "        print(\"So, data-sets are similar...\")\n",
    "    else:\n",
    "        print(\"Null Hypothesis is rejected...\")\n",
    "        print(\"So, data-sets are not similar...\")\n",
    "    return round(F_score,2)"
   ]
  },
  {
   "cell_type": "code",
   "execution_count": 96,
   "metadata": {},
   "outputs": [
    {
     "name": "stdout",
     "output_type": "stream",
     "text": [
      "Null Hypothesis is accepted...\n",
      "So, data-sets are similar...\n"
     ]
    },
    {
     "data": {
      "text/plain": [
       "2.0"
      ]
     },
     "execution_count": 96,
     "metadata": {},
     "output_type": "execute_result"
    }
   ],
   "source": [
    "anova_test(muf,muw,f=3.88)"
   ]
  }
 ],
 "metadata": {
  "kernelspec": {
   "display_name": "Python 3",
   "language": "python",
   "name": "python3"
  },
  "language_info": {
   "codemirror_mode": {
    "name": "ipython",
    "version": 3
   },
   "file_extension": ".py",
   "mimetype": "text/x-python",
   "name": "python",
   "nbconvert_exporter": "python",
   "pygments_lexer": "ipython3",
   "version": "3.7.6"
  }
 },
 "nbformat": 4,
 "nbformat_minor": 4
}
