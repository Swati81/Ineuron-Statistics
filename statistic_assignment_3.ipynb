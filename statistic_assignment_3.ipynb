{
 "cells": [
  {
   "cell_type": "markdown",
   "metadata": {},
   "source": [
    "# Problem Statement 1:\n",
    "Blood glucose levels for obese patients have a mean of 100 with a standard deviation of 15.\n",
    "A researcher thinks that a diet high in raw cornstarch will have a positive effect on\n",
    "blood glucose levels. A sample of 36 patients who have tried the raw cornstarch diet\n",
    "have a mean glucose level of 108. Test the hypothesis that the raw cornstarch had an\n",
    "effect or not."
   ]
  },
  {
   "cell_type": "code",
   "execution_count": 4,
   "metadata": {},
   "outputs": [],
   "source": [
    "import numpy as np\n",
    "import pandas as pd"
   ]
  },
  {
   "cell_type": "markdown",
   "metadata": {},
   "source": [
    "Let's consider, significance level =5%\n",
    "so , alpha =(0.05/2) = 0.025\n",
    "z(1-0.025=0.975) = 1.96"
   ]
  },
  {
   "cell_type": "code",
   "execution_count": 5,
   "metadata": {},
   "outputs": [],
   "source": [
    "def two_tail_ttest(sam_mean=1,pop_mean=1,sam_size=1,std=1,t=1):\n",
    "    std_error = std/np.sqrt(sam_size)\n",
    "    t_test = (sam_mean-pop_mean)/std_error\n",
    "    if (-t < t_test < t) :\n",
    "        print(\"Null Hypothesis is accepted...\")\n",
    "        print(\"Alternate Hypothesis is rejected...\")\n",
    "    else:\n",
    "        print(\"Null Hypothesis is rejected...\")\n",
    "        print(\"Alternate Hypothesis is accepted...\")\n",
    "    return round(t_test,3)  "
   ]
  },
  {
   "cell_type": "code",
   "execution_count": 6,
   "metadata": {},
   "outputs": [
    {
     "name": "stdout",
     "output_type": "stream",
     "text": [
      "Null Hypothesis is rejected...\n",
      "Alternate Hypothesis is accepted...\n"
     ]
    },
    {
     "data": {
      "text/plain": [
       "3.2"
      ]
     },
     "execution_count": 6,
     "metadata": {},
     "output_type": "execute_result"
    }
   ],
   "source": [
    "two_tail_ttest(sam_mean=108,pop_mean=100,sam_size=36,std=15,t=1.96)"
   ]
  },
  {
   "cell_type": "markdown",
   "metadata": {},
   "source": [
    "# Problem Statement 2:\n",
    "In one state, 52% of the voters are Republicans, and 48% are Democrats. In a second\n",
    "state, 47% of the voters are Republicans, and 53% are Democrats. Suppose a simple\n",
    "random sample of 100 voters are surveyed from each state.\n",
    "What is the probability that the survey will show a greater percentage of Republican\n",
    "voters in the second state than in the first state?\n"
   ]
  },
  {
   "cell_type": "code",
   "execution_count": 86,
   "metadata": {},
   "outputs": [],
   "source": [
    "pr1 = 0.52\n",
    "pr2 = 0.47\n",
    "n1 = 100\n",
    "n2 = 100"
   ]
  },
  {
   "cell_type": "markdown",
   "metadata": {},
   "source": [
    "#### difference of Standard Deviation in two states for Republicans"
   ]
  },
  {
   "cell_type": "code",
   "execution_count": 94,
   "metadata": {},
   "outputs": [],
   "source": [
    "def dif_sd(pr1,pr2,n1,n2):\n",
    "    sd_dif = np.sqrt((pr1*(1-pr1)/n1)+(pr2*(1-pr2)/n2))\n",
    "    z_diff = (pr2-pr1)/sd_dif\n",
    "    return z_diff"
   ]
  },
  {
   "cell_type": "code",
   "execution_count": 97,
   "metadata": {},
   "outputs": [
    {
     "data": {
      "text/plain": [
       "-0.7080278164104213"
      ]
     },
     "execution_count": 97,
     "metadata": {},
     "output_type": "execute_result"
    }
   ],
   "source": [
    "z_value = dif_sd(pr1,pr2,n1,n2)\n",
    "z_value"
   ]
  },
  {
   "cell_type": "markdown",
   "metadata": {},
   "source": [
    "z_value = -0.708 so, according to z-table,\n",
    "\n",
    "z(0.2177)= -0.708\n",
    "\n",
    "Answer, Probability Diff = 0.2177"
   ]
  },
  {
   "cell_type": "markdown",
   "metadata": {},
   "source": [
    "# Problem Statement 3:\n",
    "You take the SAT and score 1100. The mean score for the SAT is 1026 and the standard\n",
    "deviation is 209. How well did you score on the test compared to the average test taker?\n"
   ]
  },
  {
   "cell_type": "code",
   "execution_count": 22,
   "metadata": {},
   "outputs": [
    {
     "data": {
      "text/plain": [
       "0.35406698564593303"
      ]
     },
     "execution_count": 22,
     "metadata": {},
     "output_type": "execute_result"
    }
   ],
   "source": [
    "x=1100\n",
    "mean=1026\n",
    "std=209\n",
    "z=(x-mean)/std"
   ]
  },
  {
   "cell_type": "code",
   "execution_count": 29,
   "metadata": {},
   "outputs": [
    {
     "name": "stdout",
     "output_type": "stream",
     "text": [
      "z_value =  63.683 %\n"
     ]
    }
   ],
   "source": [
    "#According to z- table z(0.354) = 0.63683\n",
    "z_value = 0.63683*100\n",
    "print('z_value = ',z_value,'%')"
   ]
  }
 ],
 "metadata": {
  "kernelspec": {
   "display_name": "Python 3",
   "language": "python",
   "name": "python3"
  },
  "language_info": {
   "codemirror_mode": {
    "name": "ipython",
    "version": 3
   },
   "file_extension": ".py",
   "mimetype": "text/x-python",
   "name": "python",
   "nbconvert_exporter": "python",
   "pygments_lexer": "ipython3",
   "version": "3.7.6"
  }
 },
 "nbformat": 4,
 "nbformat_minor": 4
}
