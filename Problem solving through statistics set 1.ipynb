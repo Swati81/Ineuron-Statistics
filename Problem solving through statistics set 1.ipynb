{
 "cells": [
  {
   "cell_type": "markdown",
   "metadata": {},
   "source": [
    "# Problem Statement 1:"
   ]
  },
  {
   "cell_type": "markdown",
   "metadata": {},
   "source": [
    "In each of the following situations, state whether it is a correctly stated hypothesis\n",
    "testing problem and why?\n",
    "1. H0: μ = 25, H1: μ ≠ 25\n",
    "2. H0: σ > 10, H1: σ = 10\n",
    "3. H0: x = 50, H1: x ≠ 50\n",
    "4. H0: p = 0.1, H1: p = 0.5\n",
    "5. H0: s = 30, H1: s > 30"
   ]
  },
  {
   "cell_type": "markdown",
   "metadata": {},
   "source": [
    "1.In this one H0 is equal to 25 and H1 is not equal to 25. so, Interpetition is correct."
   ]
  },
  {
   "cell_type": "markdown",
   "metadata": {},
   "source": [
    "2.Here , in H0 standard deviation is greater than 10 and H1 is equal to 10 but , we can't conclude to the statement is true by\n",
    "standard deviation .So, the statement is not fully informed. "
   ]
  },
  {
   "cell_type": "markdown",
   "metadata": {},
   "source": [
    "3.Here , in H0 sample size is equal to 50 and H1 is not equal to 50 but , we can't conclude that the statement is true by\n",
    "look into the sample size."
   ]
  },
  {
   "cell_type": "markdown",
   "metadata": {},
   "source": [
    "4.Here , in H0 p is equal to 0.1 and H1 p is  equal to 0.5.so,0.1 is the threshhold point...\n",
    "H1 should be greater than 0.1 and 0.5>0.1..\n",
    "So, the statement in here is true \n"
   ]
  },
  {
   "cell_type": "markdown",
   "metadata": {},
   "source": [
    "5.Here, in H0 sample standard deviation is 30 and H1 is greater than 30  but , we can't conclude to the statement is true by\n",
    "sample standard deviation we need to know the mean atleast.So, the statement is not fully informed. "
   ]
  },
  {
   "cell_type": "code",
   "execution_count": 9,
   "metadata": {},
   "outputs": [],
   "source": [
    "import numpy as np\n",
    "import pandas as pd\n",
    "import matplotlib.pyplot as plt"
   ]
  },
  {
   "cell_type": "markdown",
   "metadata": {},
   "source": [
    "# Problem Statement 2:\n",
    "The college bookstore tells prospective students that the average cost of its\n",
    "textbooks is Rs. 52 with a standard deviation of Rs. 4.50. A group of smart statistics\n",
    "students thinks that the average cost is higher. To test the bookstore’s claim against\n",
    "their alternative, the students will select a random sample of size 100. Assume that\n",
    "the mean from their random sample is Rs. 52.80. Perform a hypothesis test at the\n",
    "5% level of significance and state your decision."
   ]
  },
  {
   "cell_type": "markdown",
   "metadata": {},
   "source": [
    "For 5% as significance(confidence) level, we get Z(0.05) = -1.645 from z-score table\n",
    "\n",
    "here, sample mean = 52.80, population mean = 52, sample size = 100, and std.dev. = 4.50\n",
    "\n",
    "As , Sample error = (sample mean - population mean)/(sample size)= 0.008 = positive,so,\n",
    "\n",
    "we will use one-tail Right Hand Test"
   ]
  },
  {
   "cell_type": "code",
   "execution_count": 2,
   "metadata": {},
   "outputs": [],
   "source": [
    "def one_tailtest_right(sam_mean=1,pop_mean=1,sam_size=1,std=1,z=1.645):\n",
    "    std_error = std/np.sqrt(sam_size)\n",
    "    z_test = (sam_mean-pop_mean)/std_error\n",
    "    if z_test > z:\n",
    "        print(\"Null Hypothesis Rejected..\")\n",
    "        print(\"Alternative Hypothesis accepted..\")\n",
    "    else:\n",
    "        print(\"Null Hypothesis accepted..\")\n",
    "        print(\"Alternative Hypothesis Rejected..\")\n",
    "    return round(z_test,3) "
   ]
  },
  {
   "cell_type": "code",
   "execution_count": 3,
   "metadata": {},
   "outputs": [
    {
     "name": "stdout",
     "output_type": "stream",
     "text": [
      "Null Hypothesis Rejected..\n",
      "Alternative Hypothesis accepted..\n"
     ]
    },
    {
     "data": {
      "text/plain": [
       "1.778"
      ]
     },
     "execution_count": 3,
     "metadata": {},
     "output_type": "execute_result"
    }
   ],
   "source": [
    "one_tailtest_right(sam_mean=52.80,pop_mean=52,sam_size=100,std=4.50,z=-1.645)"
   ]
  },
  {
   "cell_type": "markdown",
   "metadata": {},
   "source": [
    "# Problem Statement 3:\n",
    "A certain chemical pollutant in the Genesee River has been constant for several\n",
    "years with mean μ = 34 ppm (parts per million) and standard deviation σ = 8 ppm. A\n",
    "group of factory representatives whose companies discharge liquids into the river is\n",
    "now claiming that they have lowered the average with improved filtration devices. A\n",
    "group of environmentalists will test to see if this is true at the 1% level of\n",
    "significance. Assume \\ that their sample of size 50 gives a mean of 32.5 ppm.\n",
    "Perform a hypothesis test at the 1% level of significance and state your decision."
   ]
  },
  {
   "cell_type": "markdown",
   "metadata": {},
   "source": [
    "For 1% as significance(confidence) level, we get Z(0.01) = -2.3 from z-score table\n",
    "\n",
    "here, sample mean = 32.5, population mean = 34, sample size = 50, and std.dev. = 8\n",
    "\n",
    "As , Sample error = (sample mean - population mean)/(sample size)= -0.03 = Negative,so,\n",
    "\n",
    "we will use one-tail Left Hand Test"
   ]
  },
  {
   "cell_type": "code",
   "execution_count": 7,
   "metadata": {},
   "outputs": [],
   "source": [
    "def one_tailtest_left(sam_mean=1,pop_mean=1,sam_size=1,std=1,z=-1.645):\n",
    "    std_error = std/np.sqrt(sam_size)\n",
    "    z_test = (sam_mean-pop_mean)/std_error\n",
    "    if z_test < z  :\n",
    "        print(\"Null Hypothesis Rejected..\")\n",
    "        print(\"Alternative Hypothesis accepted..\")\n",
    "    else:\n",
    "        print(\"Null Hypothesis accepted..\")\n",
    "        print(\"Alternative Hypothesis Rejected..\")   \n",
    "    return round(z_test,3) "
   ]
  },
  {
   "cell_type": "code",
   "execution_count": 8,
   "metadata": {},
   "outputs": [
    {
     "name": "stdout",
     "output_type": "stream",
     "text": [
      "Null Hypothesis accepted..\n",
      "Alternative Hypothesis Rejected..\n"
     ]
    },
    {
     "data": {
      "text/plain": [
       "-1.326"
      ]
     },
     "execution_count": 8,
     "metadata": {},
     "output_type": "execute_result"
    }
   ],
   "source": [
    "one_tailtest_left(sam_mean=32.5,pop_mean=34,sam_size=50,std=8,z=-2.3)"
   ]
  },
  {
   "cell_type": "markdown",
   "metadata": {},
   "source": [
    "# Problem Statement 4:\n",
    "Based on population figures and other general information on the U.S. population,\n",
    "suppose it has been estimated that, on average, a family of four in the U.S. spends\n",
    "about $1135 annually on dental expenditures. Suppose further that a regional dental\n",
    "association wants to test to determine if this figure is accurate for their area of\n",
    "country. To test this, 22 families of 4 are randomly selected from the population in\n",
    "that area of the country and a log is kept of the family’s dental expenditure for one\n",
    "year. The resulting data are given below. Assuming, that dental expenditure is\n",
    "normally distributed in the population, use the data and an alpha of 0.5 to test the\n",
    "dental association’s hypothesis.\n",
    "\n",
    "1008, 812, 1117, 1323, 1308, 1415, 831, 1021, 1287, 851, 930, 730, 699,\n",
    "872, 913, 944, 954, 987, 1695, 995, 1003, 994"
   ]
  },
  {
   "cell_type": "code",
   "execution_count": 9,
   "metadata": {
    "scrolled": true
   },
   "outputs": [
    {
     "name": "stdout",
     "output_type": "stream",
     "text": [
      "22689\n",
      "1031.32\n"
     ]
    }
   ],
   "source": [
    "l=[1008, 812, 1117, 1323, 1308, 1415, 831, 1021, 1287, 851, 930, 730, 699, 872, 913, 944, 954, 987, 1695, 995, 1003, 994]\n",
    "S = sum(l)\n",
    "print(S)\n",
    "print (round((S/22),2))"
   ]
  },
  {
   "cell_type": "code",
   "execution_count": 10,
   "metadata": {},
   "outputs": [
    {
     "data": {
      "text/plain": [
       "4703.47"
      ]
     },
     "execution_count": 10,
     "metadata": {},
     "output_type": "execute_result"
    }
   ],
   "source": [
    "std=round(np.sqrt(((S-1135)**2)/(22-1)),2)\n",
    "std"
   ]
  },
  {
   "cell_type": "markdown",
   "metadata": {},
   "source": [
    "Here , population mean=1135 , sample mean =1031 , alpha = 0.5, degree_of_freedom(df)=(n-4)=19\n",
    "\n",
    "According to t-table , t(0.5,19) = 1.729 , sample size = 22 , standard deviation = 4703\n",
    "\n",
    "As , Sample error = (sample mean - population mean)/(sample size)= -4.72 = Negative,so,\n",
    "\n",
    "we will use one-tail Left Hand Test"
   ]
  },
  {
   "cell_type": "code",
   "execution_count": 11,
   "metadata": {},
   "outputs": [],
   "source": [
    "def one_tailtest_left(sam_mean=1,pop_mean=1,sam_size=1,std=1,z=-1.645):\n",
    "    std_error = std/np.sqrt(sam_size)\n",
    "    z_test = (sam_mean-pop_mean)/std_error\n",
    "    if z_test < z  :\n",
    "        print(\"Null Hypothesis Rejected..\")\n",
    "        print(\"Alternative Hypothesis accepted..\")\n",
    "    else:\n",
    "        print(\"Null Hypothesis accepted..\")\n",
    "        print(\"Alternative Hypothesis Rejected..\")   \n",
    "    return round(z_test,3) "
   ]
  },
  {
   "cell_type": "code",
   "execution_count": 12,
   "metadata": {},
   "outputs": [
    {
     "name": "stdout",
     "output_type": "stream",
     "text": [
      "Null Hypothesis Rejected..\n",
      "Alternative Hypothesis accepted..\n"
     ]
    },
    {
     "data": {
      "text/plain": [
       "-10.077"
      ]
     },
     "execution_count": 12,
     "metadata": {},
     "output_type": "execute_result"
    }
   ],
   "source": [
    "one_tailtest_left(sam_mean=1031,pop_mean=11135,sam_size=22,std=4703,z=1.729)"
   ]
  },
  {
   "cell_type": "markdown",
   "metadata": {},
   "source": [
    "# Problem Statement 5:\n",
    "In a report prepared by the Economic Research Department of a major bank the\n",
    "Department manager maintains that the average annual family income on Metropolis\n",
    "is $48,432. \n",
    "\n",
    "What do you conclude about the validity of the report if a random sample\n",
    "of 400 families shows and average income of $48,574 with a standard deviation of\n",
    "2000?"
   ]
  },
  {
   "cell_type": "code",
   "execution_count": 13,
   "metadata": {},
   "outputs": [
    {
     "data": {
      "text/plain": [
       "0.355"
      ]
     },
     "execution_count": 13,
     "metadata": {},
     "output_type": "execute_result"
    }
   ],
   "source": [
    "SE=(48574-48432)/400\n",
    "SE"
   ]
  },
  {
   "cell_type": "markdown",
   "metadata": {},
   "source": [
    "Assume , significance level =5 % .z(0.05) = -1.645  \n",
    "\n",
    "here , sample mean = 48574 , population mean = 48432 ,standard deviation = 2000 , sample size = 400\n",
    "\n",
    "Sample error = (sample mean - population mean)/(sample size)= 0.355 = positive,so,\n",
    "\n",
    "we will use one-tail Right Hand Test\n",
    "\n",
    "H0 population mean = 48432\n",
    "\n",
    "H1 population mean >48432"
   ]
  },
  {
   "cell_type": "code",
   "execution_count": 14,
   "metadata": {},
   "outputs": [],
   "source": [
    "def one_tailtest_right(sam_mean=1,pop_mean=1,sam_size=1,std=1,z=1.645):\n",
    "    std_error = std/np.sqrt(sam_size)\n",
    "    z_test = (sam_mean-pop_mean)/std_error\n",
    "    if z_test > z:\n",
    "        print(\"Null Hypothesis Rejected..\")\n",
    "        print(\"Alternative Hypothesis accepted..\")\n",
    "    else:\n",
    "        print(\"Null Hypothesis accepted..\")\n",
    "        print(\"Alternative Hypothesis Rejected..\")\n",
    "    return round(z_test,3) "
   ]
  },
  {
   "cell_type": "code",
   "execution_count": 15,
   "metadata": {},
   "outputs": [
    {
     "name": "stdout",
     "output_type": "stream",
     "text": [
      "Null Hypothesis Rejected..\n",
      "Alternative Hypothesis accepted..\n"
     ]
    },
    {
     "data": {
      "text/plain": [
       "1.42"
      ]
     },
     "execution_count": 15,
     "metadata": {},
     "output_type": "execute_result"
    }
   ],
   "source": [
    "one_tailtest_right(sam_mean=48574,pop_mean=48432,sam_size=400,std=2000,z=-1.645)"
   ]
  },
  {
   "cell_type": "markdown",
   "metadata": {},
   "source": [
    "So , Reports are vallied."
   ]
  },
  {
   "cell_type": "markdown",
   "metadata": {},
   "source": [
    "# Problem Statement 6:\n",
    "Suppose that in past years the average price per square foot for warehouses in the\n",
    "United States has been $32.28. A national real estate investor wants to determine\n",
    "\n",
    "whether that figure has changed now. The investor hires a researcher who randomly\n",
    "\n",
    "samples 19 warehouses that are for sale across the United States and finds that the\n",
    "\n",
    "mean price per square foot is $31.67, with a standard deviation of \n",
    "\n",
    "$1.29. assume\n",
    "that the prices of warehouse footage are normally distributed in population. If the\n",
    "researcher uses a 5% level of significance, what statistical conclusion can be\n",
    "reached? What are the hypotheses?"
   ]
  },
  {
   "cell_type": "code",
   "execution_count": 16,
   "metadata": {},
   "outputs": [
    {
     "data": {
      "text/plain": [
       "-0.032105263157894706"
      ]
     },
     "execution_count": 16,
     "metadata": {},
     "output_type": "execute_result"
    }
   ],
   "source": [
    "SE = (31.67-32.28)/19\n",
    "SE"
   ]
  },
  {
   "cell_type": "markdown",
   "metadata": {},
   "source": [
    "Here , sample mean = 31.67 , population mean = 32.28 , sample size = 19 , standard deviation = 1.29\n",
    "\n",
    "At the 5% significance level z(0.05) = -1.64\n",
    "\n",
    "As, sample error = (sample mean - population mean)/sample size = -0.032 = Negative , we will use\n",
    "\n",
    "one tail Left Hand test."
   ]
  },
  {
   "cell_type": "code",
   "execution_count": 17,
   "metadata": {},
   "outputs": [],
   "source": [
    "def one_tailtest_left(sam_mean=1,pop_mean=1,sam_size=1,std=1,z=-1.645):\n",
    "    std_error = std/np.sqrt(sam_size)\n",
    "    z_test = (sam_mean-pop_mean)/std_error\n",
    "    if z_test < z  :\n",
    "        print(\"Null Hypothesis Rejected..\")\n",
    "        print(\"Alternative Hypothesis accepted..\")\n",
    "    else:\n",
    "        print(\"Null Hypothesis accepted..\")\n",
    "        print(\"Alternative Hypothesis Rejected..\")   \n",
    "    return round(z_test,3) "
   ]
  },
  {
   "cell_type": "code",
   "execution_count": 18,
   "metadata": {},
   "outputs": [
    {
     "name": "stdout",
     "output_type": "stream",
     "text": [
      "Null Hypothesis Rejected..\n",
      "Alternative Hypothesis accepted..\n"
     ]
    },
    {
     "data": {
      "text/plain": [
       "-2.061"
      ]
     },
     "execution_count": 18,
     "metadata": {},
     "output_type": "execute_result"
    }
   ],
   "source": [
    "one_tailtest_left(sam_mean=31.67,pop_mean=32.28,sam_size=19,std=1.29,z=-1.645)"
   ]
  },
  {
   "cell_type": "markdown",
   "metadata": {},
   "source": [
    "# Problem Statement 8:\n",
    "Find the t-score for a sample size of 16 taken from a population with mean 10 when\n",
    "the sample mean is 12 and the sample standard deviation is 1.5.\n"
   ]
  },
  {
   "cell_type": "code",
   "execution_count": 19,
   "metadata": {},
   "outputs": [
    {
     "data": {
      "text/plain": [
       "0.125"
      ]
     },
     "execution_count": 19,
     "metadata": {},
     "output_type": "execute_result"
    }
   ],
   "source": [
    "SE=(12-10)/16\n",
    "SE"
   ]
  },
  {
   "cell_type": "markdown",
   "metadata": {},
   "source": [
    "Here , sample mean = 12 , population mean = 10 , sample size = 16 , standard deviation = 1.5\n",
    "\n",
    "Let's assume , significance level is 5%. z(0.05) = -1.64\n",
    "\n",
    "As, sample error = (sample mean - population mean)/sample size = 0.125 = positive , we will use\n",
    "\n",
    "one tail Right Hand test."
   ]
  },
  {
   "cell_type": "code",
   "execution_count": 20,
   "metadata": {},
   "outputs": [],
   "source": [
    "def one_tailtest_right(sam_mean=1,pop_mean=1,sam_size=1,std=1,z=1.645):\n",
    "    std_error = std/np.sqrt(sam_size)\n",
    "    z_test = (sam_mean-pop_mean)/std_error\n",
    "    if z_test > z:\n",
    "        print(\"Null Hypothesis Rejected..\")\n",
    "        print(\"Alternative Hypothesis accepted..\")\n",
    "    else:\n",
    "        print(\"Null Hypothesis accepted..\")\n",
    "        print(\"Alternative Hypothesis Rejected..\")\n",
    "    return round(z_test,3) "
   ]
  },
  {
   "cell_type": "code",
   "execution_count": 21,
   "metadata": {},
   "outputs": [
    {
     "name": "stdout",
     "output_type": "stream",
     "text": [
      "Null Hypothesis Rejected..\n",
      "Alternative Hypothesis accepted..\n"
     ]
    },
    {
     "data": {
      "text/plain": [
       "5.333"
      ]
     },
     "execution_count": 21,
     "metadata": {},
     "output_type": "execute_result"
    }
   ],
   "source": [
    "one_tailtest_right(sam_mean=12,pop_mean=10,sam_size=16,std=1.5,z=-1.645)"
   ]
  },
  {
   "cell_type": "markdown",
   "metadata": {},
   "source": [
    "# Problem Statement 9:\n",
    "Find the t-score below which we can expect 99% of sample means will fall if samples\n",
    "of size 16 are taken from a normally distributed population. "
   ]
  },
  {
   "cell_type": "markdown",
   "metadata": {},
   "source": [
    "Here , (1-alpha) = 99% = 0.99 , alpha = (1-0.99)=0.01 , degree of freedom = (16-1) = 15 \n",
    "According to t-table, t(0.99/15)=-t(0.01/15)=-2.947 , sample size = 16 \n"
   ]
  },
  {
   "cell_type": "code",
   "execution_count": 29,
   "metadata": {},
   "outputs": [
    {
     "data": {
      "text/plain": [
       "-2.947"
      ]
     },
     "execution_count": 29,
     "metadata": {},
     "output_type": "execute_result"
    }
   ],
   "source": [
    "sample_size = 16\n",
    "alpha = (1-(99/100))\n",
    "degree_of_freedom = (sample_size-1)\n",
    "degree_of_freedom \n",
    "#According to t-table,t(0.99/15)=-t(0.01/15)=-2.947\n",
    "t=-2.947\n",
    "t"
   ]
  },
  {
   "cell_type": "markdown",
   "metadata": {},
   "source": [
    "# Problem Statement 10:\n",
    "If a random sample of size 25 drawn from a normal population gives a mean of 60\n",
    "and a standard deviation of 4, find the range of t-scores where we can expect to find\n",
    "the middle 95% of all sample means. Compute the probability that (−𝑡0.05 <𝑡<𝑡0.10)."
   ]
  },
  {
   "cell_type": "code",
   "execution_count": 24,
   "metadata": {},
   "outputs": [
    {
     "name": "stdout",
     "output_type": "stream",
     "text": [
      "-1.25\n",
      "-1.0625\n"
     ]
    },
    {
     "data": {
      "text/plain": [
       "(0.1056, 0.1446)"
      ]
     },
     "execution_count": 24,
     "metadata": {},
     "output_type": "execute_result"
    }
   ],
   "source": [
    "sam_size=25 \n",
    "std=4 \n",
    "t1=0.05 \n",
    "SE=std/np.sqrt(25)  \n",
    "zx1=(-0.05-0.95)/SE #According to z table\n",
    "print(zx1)\n",
    "z1= 0.1056 \n",
    "zx2=(0.10-0.95)/SE  #According to z table \n",
    "print(zx2)\n",
    "z2= 0.1446 \n",
    "z1,z2"
   ]
  },
  {
   "cell_type": "code",
   "execution_count": 25,
   "metadata": {},
   "outputs": [],
   "source": [
    "def two_tail_ttest(sam_mean=1,pop_mean=1,sam_size=1,std=1,t1=1,t2=1):\n",
    "    #sam_mean = pop_mean + 2*(std/(sam_size**0.5))\n",
    "    std_error = std/np.sqrt(sam_size)\n",
    "    t_test = (sam_mean-pop_mean)/std_error\n",
    "    if (t1 < t_test < t2) :\n",
    "        print(\"Null Hypothesis is accepted...\")\n",
    "        print(\"Alternate Hypothesis is rejected...\")\n",
    "    else:\n",
    "        print(\"Null Hypothesis is rejected...\")\n",
    "        print(\"Alternate Hypothesis is accepted...\")\n",
    "    return round(t_test,3)  "
   ]
  },
  {
   "cell_type": "code",
   "execution_count": 26,
   "metadata": {},
   "outputs": [
    {
     "name": "stdout",
     "output_type": "stream",
     "text": [
      "Null Hypothesis is rejected...\n",
      "Alternate Hypothesis is accepted...\n"
     ]
    },
    {
     "data": {
      "text/plain": [
       "2.0"
      ]
     },
     "execution_count": 26,
     "metadata": {},
     "output_type": "execute_result"
    }
   ],
   "source": [
    "two_tail_ttest(sam_mean=61.6,pop_mean=60,sam_size=25,std=4,t1=0.1056,t2=0.1446)"
   ]
  },
  {
   "cell_type": "markdown",
   "metadata": {},
   "source": [
    "# Problem Statement 11:\n",
    "Two-tailed test for difference between two population means\n",
    "Is there evidence to conclude that the number of people travelling from Bangalore to\n",
    "Chennai is different from the number of people travelling from Bangalore to Hosur in\n",
    "a week, given the following:\n",
    "\n",
    "Population 1: Bangalore to Chennai n1 = 1200\n",
    "\n",
    "x1 = 452\n",
    "\n",
    "s1 = 212\n",
    "\n",
    "Population 2: Bangalore to Hosur n2 = 800\n",
    "\n",
    "x2 = 523\n",
    "\n",
    "s2 = 185"
   ]
  },
  {
   "cell_type": "markdown",
   "metadata": {},
   "source": [
    "Here, n > 30 where, n1 = 1200, n2 = 800 ; X1 = 452, x2 = 523  ; s1 = 212 , s2 = 185 \n",
    "Let's consider , significance_level = 5% ,alpha/2 = 2.5% as it is two-tail-test..\n",
    "So, Z(0.025) = 1.96"
   ]
  },
  {
   "cell_type": "code",
   "execution_count": 18,
   "metadata": {},
   "outputs": [],
   "source": [
    "def similarity_testa(n1=1, n2=1, X1=1, x2=1, s1=1, s2=1,z=1):\n",
    "    serror = np.sqrt((s1**2/n1)+(s2**2/n2))\n",
    "    t_test = (X1-x2)/serror\n",
    "    if (-z < t_test < z):\n",
    "        print(\"Null Hypothesis is accepted...\")\n",
    "        print(\"So, Both the populations are similar...\")\n",
    "    else:\n",
    "        print(\"Null Hypothesis is rejected...\")\n",
    "        print(\"So, the populations are not similar...\")\n",
    "    return round(t_test,3) "
   ]
  },
  {
   "cell_type": "code",
   "execution_count": 19,
   "metadata": {},
   "outputs": [
    {
     "name": "stdout",
     "output_type": "stream",
     "text": [
      "Null Hypothesis is rejected...\n",
      "So, the populations are not similar...\n"
     ]
    },
    {
     "data": {
      "text/plain": [
       "-7.926"
      ]
     },
     "execution_count": 19,
     "metadata": {},
     "output_type": "execute_result"
    }
   ],
   "source": [
    "similarity_testa(n1=1200, n2=800, X1=452, x2=523, s1=212, s2=185,z=1.96)"
   ]
  },
  {
   "cell_type": "markdown",
   "metadata": {},
   "source": [
    "# Problem Statement 12:\n",
    "Is there evidence to conclude that the number of people preferring Duracell battery is\n",
    "different from the number of people preferring Energizer battery, given the following:\n",
    "Population 1: Duracell\n",
    "\n",
    "n1 = 100\n",
    "\n",
    "x1 = 308\n",
    "s1 = 84\n",
    "\n",
    "Population 2: Energizer\n",
    "\n",
    "n2 = 100\n",
    "\n",
    "x2 = 254\n",
    "s2 = 67\n"
   ]
  },
  {
   "cell_type": "markdown",
   "metadata": {},
   "source": [
    "Let's consider , significance_level = 5% ,alpha/2 = 2.5% as it is two-tail-test.. So, Z(0.025) = 1.96"
   ]
  },
  {
   "cell_type": "code",
   "execution_count": 20,
   "metadata": {},
   "outputs": [],
   "source": [
    "def similarity_testa(n1=1, n2=1, X1=1, x2=1, s1=1, s2=1,z=1):\n",
    "    serror = np.sqrt((s1**2/n1)+(s2**2/n2))\n",
    "    t_test = (X1-x2)/serror\n",
    "    if (-z < t_test < z):\n",
    "        print(\"Null Hypothesis is accepted...\")\n",
    "        print(\"So, Both the populations are similar...\")\n",
    "    else:\n",
    "        print(\"Null Hypothesis is rejected...\")\n",
    "        print(\"So, the populations are not similar...\")\n",
    "    return round(t_test,3) "
   ]
  },
  {
   "cell_type": "code",
   "execution_count": 21,
   "metadata": {},
   "outputs": [
    {
     "name": "stdout",
     "output_type": "stream",
     "text": [
      "Null Hypothesis is rejected...\n",
      "So, the populations are not similar...\n"
     ]
    },
    {
     "data": {
      "text/plain": [
       "5.026"
      ]
     },
     "execution_count": 21,
     "metadata": {},
     "output_type": "execute_result"
    }
   ],
   "source": [
    "similarity_testa(n1=100, n2=100, X1=308, x2=254, s1=84, s2=67,z=1.96)"
   ]
  },
  {
   "cell_type": "markdown",
   "metadata": {},
   "source": [
    "# Problem Statement 13:\n",
    "Pooled estimate of the population variance\n",
    "Does the data provide sufficient evidence to conclude that average percentage\n",
    "increase in the price of sugar differs when it is sold at two different prices?\n",
    "\n",
    "Population 1: Price of sugar = Rs. 27.50\n",
    "\n",
    "n1 = 14\n",
    "\n",
    "x1 = 0.317%\n",
    "\n",
    "s1 = 0.12%\n",
    "\n",
    "Population 2: Price of sugar = Rs. 20.00\n",
    "\n",
    "n2 = 9\n",
    "\n",
    "x2 = 0.21%\n",
    "\n",
    "s2 = 0.11%"
   ]
  },
  {
   "cell_type": "code",
   "execution_count": 48,
   "metadata": {},
   "outputs": [
    {
     "name": "stdout",
     "output_type": "stream",
     "text": [
      "x1= 0.087\n",
      "x2= 0.042\n",
      "s1= 0.033\n",
      "s2= 0.022\n",
      "s1^2= 0.00109\n",
      "s2^2= 0.00048\n"
     ]
    }
   ],
   "source": [
    "x1=round(27.50*(0.317/100),3)\n",
    "x2=round(20*(0.21/100),3)\n",
    "s1=round(27.50*(0.12/100),4)\n",
    "s2=round(20*(0.11/100),4)\n",
    "print('x1=',x1)\n",
    "print('x2=',x2)\n",
    "print('s1=',s1)\n",
    "print('s2=',s2)\n",
    "print('s1^2=',round((s1)**2,5))\n",
    "print('s2^2=',round((s2)**2,5))"
   ]
  },
  {
   "cell_type": "markdown",
   "metadata": {},
   "source": [
    "**Here no. of data sets n < 30  n1 = 14, n2 = 9, x1 = 0.087, x2 = 0.042, s1^2 = 0.00109, s2^2 = 0.00048,\n",
    "\n",
    "SD = sqrt[(s1^2+s2^2)/(nx+ny-2)], significance = 5% for two-tail-test, \n",
    "\n",
    "deg. of freedom => (14+9-2) = 21, t(0.025)=2.080 from t-table.\n",
    "\n",
    "Let's consider , significance_level = 5% ,alpha/2 = 2.5% as it is two-tail-test.. So, Z(0.025) = 1.96"
   ]
  },
  {
   "cell_type": "code",
   "execution_count": 51,
   "metadata": {},
   "outputs": [],
   "source": [
    "def similarity_test(n1=1, n2=1, x1=1, x2=1, s1=1, s2=1,z=1):\n",
    "    sd = np.sqrt((s1**2+s2**2)/(n1+n2-2))\n",
    "    serror = sd*np.sqrt((1/n1)+(1/n2))\n",
    "    serror = np.sqrt((s1**2/n1)+(s2**2/n2))\n",
    "    t_test = (x1-x2)/serror\n",
    "    if (-z < t_test < z):\n",
    "        print(\"Null Hypothesis is accepted...\")\n",
    "        print(\"So, Both the populations are similar...\")\n",
    "    else:\n",
    "        print(\"Null Hypothesis is rejected...\")\n",
    "        print(\"So, the populations are not similar...\")\n",
    "    return round(t_test,3) "
   ]
  },
  {
   "cell_type": "code",
   "execution_count": 52,
   "metadata": {},
   "outputs": [
    {
     "name": "stdout",
     "output_type": "stream",
     "text": [
      "Null Hypothesis is rejected...\n",
      "So, the populations are not similar...\n"
     ]
    },
    {
     "data": {
      "text/plain": [
       "3.923"
      ]
     },
     "execution_count": 52,
     "metadata": {},
     "output_type": "execute_result"
    }
   ],
   "source": [
    "t = 2.080\n",
    "t_test = similarity_test(n1=14,n2=9,x1=0.087,x2=0.042,s1=0.033,s2=0.022,z=t)\n",
    "t_test"
   ]
  },
  {
   "cell_type": "markdown",
   "metadata": {},
   "source": [
    "# Problem Statement 14:\n",
    "The manufacturers of compact disk players want to test whether a small price\n",
    "reduction is enough to increase sales of their product. Is there evidence that the\n",
    "small price reduction is enough to increase sales of compact disk players?\n",
    "Population 1: Before reduction\n",
    "n1 = 15\n",
    "x1 = Rs. 6598 s1 = Rs. 844\n",
    "Population 2: After reduction n2 = 12\n",
    "x2 = RS. 6870\n",
    "s2 = Rs. 669\n"
   ]
  },
  {
   "cell_type": "markdown",
   "metadata": {},
   "source": [
    "Let's consider , significance_level = 5% ,alpha/2 = 2.5% as it is two-tail-test.. So, Z(0.025) = 1.96"
   ]
  },
  {
   "cell_type": "code",
   "execution_count": 22,
   "metadata": {},
   "outputs": [],
   "source": [
    "def similarity_testa(n1=1, n2=1, X1=1, x2=1, s1=1, s2=1,z=1):\n",
    "    serror = np.sqrt((s1**2/n1)+(s2**2/n2))\n",
    "    t_test = (X1-x2)/serror\n",
    "    if (-z < t_test < z):\n",
    "        print(\"Null Hypothesis is accepted...\")\n",
    "        print(\"So, Both the populations are similar...\")\n",
    "    else:\n",
    "        print(\"Null Hypothesis is rejected...\")\n",
    "        print(\"So, the populations are not similar...\")\n",
    "    return round(t_test,3) "
   ]
  },
  {
   "cell_type": "code",
   "execution_count": 23,
   "metadata": {},
   "outputs": [
    {
     "name": "stdout",
     "output_type": "stream",
     "text": [
      "Null Hypothesis is accepted...\n",
      "So, Both the populations are similar...\n"
     ]
    },
    {
     "data": {
      "text/plain": [
       "-0.934"
      ]
     },
     "execution_count": 23,
     "metadata": {},
     "output_type": "execute_result"
    }
   ],
   "source": [
    "similarity_testa(n1=15, n2=12, X1=6598, x2=6870, s1=844, s2=669,z=1.96)"
   ]
  },
  {
   "cell_type": "markdown",
   "metadata": {},
   "source": [
    "# Problem Statement 15:\n",
    "Comparisons of two population proportions when the hypothesized difference is zero\n",
    "Carry out a two-tailed test of the equality of banks’ share of the car loan market in\n",
    "1980 and 1995.\n",
    "Population 1: 1980\n",
    "\n",
    "n1 = 1000\n",
    "\n",
    "x1 = 53\n",
    "\n",
    "𝑝^1 = 0.53\n",
    "Population 2: 1985\n",
    "\n",
    "n2 = 100\n",
    "\n",
    "x2 = 43\n",
    "\n",
    "𝑝^2= 0.53"
   ]
  },
  {
   "cell_type": "markdown",
   "metadata": {},
   "source": [
    "Let's consider , significance_level = 5% ,alpha/2 = 2.5% as it is two-tail-test.. So, Z(0.025) = 1.96"
   ]
  },
  {
   "cell_type": "code",
   "execution_count": 53,
   "metadata": {},
   "outputs": [],
   "source": [
    "def similarity_testa(n1=1, n2=1, x1=1, x2=1, s1=1, s2=1,z=1):\n",
    "    serror = np.sqrt((s1**2/n1)+(s2**2/n2))\n",
    "    t_test = (x1-x2)/serror\n",
    "    if (-z < t_test < z):\n",
    "        print(\"Null Hypothesis is accepted...\")\n",
    "        print(\"So, Both the populations are similar...\")\n",
    "    else:\n",
    "        print(\"Null Hypothesis is rejected...\")\n",
    "        print(\"So, the populations are not similar...\")\n",
    "    return round(t_test,3) "
   ]
  },
  {
   "cell_type": "code",
   "execution_count": 54,
   "metadata": {},
   "outputs": [
    {
     "name": "stdout",
     "output_type": "stream",
     "text": [
      "Null Hypothesis is rejected...\n",
      "So, the populations are not similar...\n"
     ]
    },
    {
     "data": {
      "text/plain": [
       "179.899"
      ]
     },
     "execution_count": 54,
     "metadata": {},
     "output_type": "execute_result"
    }
   ],
   "source": [
    "similarity_testa(n1=1000, n2=100, x1=53, x2=43, s1=0.53, s2=0.53,z=1.96)"
   ]
  },
  {
   "cell_type": "markdown",
   "metadata": {},
   "source": [
    "# Problem Statement 16:\n",
    "Carry out a one-tailed test to determine whether the population proportion of\n",
    "traveler’s check buyers who buy at least $2500 in checks when sweepstakes prizes\n",
    "are offered as at least 10% \n",
    "\n",
    "higher than the proportion of such buyers when no sweepstakes are on.\n",
    "\n",
    "Population 1: With sweepstakes\n",
    "\n",
    "n1 = 300\n",
    "\n",
    "x1 = 120\n",
    "\n",
    "𝑝^1 = 0.40\n",
    "\n",
    "Population 2: No sweepstakes n2 = 700\n",
    "\n",
    "x2 = 140\n",
    "p^2= 0.20"
   ]
  },
  {
   "cell_type": "markdown",
   "metadata": {},
   "source": [
    "Let's consider , significance_level = 5% ,alpha/2 = 2.5% as it is two-tail-test.. So, Z(0.025) = 1.96"
   ]
  },
  {
   "cell_type": "code",
   "execution_count": 58,
   "metadata": {},
   "outputs": [],
   "source": [
    "def similarity_testa(n1=1, n2=1, x1=1, x2=1, s1=1, s2=1,z=1):\n",
    "    serror = np.sqrt((s1**2/n1)+(s2**2/n2))\n",
    "    t_test = (x1-x2)/serror\n",
    "    if (-z < t_test < z):\n",
    "        print(\"Null Hypothesis is accepted...\")\n",
    "        print(\"So, Both the populations are similar...\")\n",
    "    else:\n",
    "        print(\"Null Hypothesis is rejected...\")\n",
    "        print(\"So, the populations are not similar...\")\n",
    "    return round(t_test,3) "
   ]
  },
  {
   "cell_type": "code",
   "execution_count": 59,
   "metadata": {},
   "outputs": [
    {
     "name": "stdout",
     "output_type": "stream",
     "text": [
      "Null Hypothesis is rejected...\n",
      "So, the populations are not similar...\n"
     ]
    },
    {
     "data": {
      "text/plain": [
       "-823.055"
      ]
     },
     "execution_count": 59,
     "metadata": {},
     "output_type": "execute_result"
    }
   ],
   "source": [
    "similarity_testa(n1=300, n2=700, x1=120, x2=140, s1=0.40, s2=0.20,z=1.96)"
   ]
  },
  {
   "cell_type": "markdown",
   "metadata": {},
   "source": [
    "# Problem Statement 17:\n",
    "A die is thrown 132 times with the following results: Number turned up: 1, 2, 3, 4, 5, 6\n",
    "Frequency: 16, 20, 25, 14, 29, 28\n",
    "Is the die unbiased? Consider the degrees of freedom as 𝑝^-1 . "
   ]
  },
  {
   "cell_type": "markdown",
   "metadata": {},
   "source": [
    "On the hypothesis that the die is unbiased we should expect the frequency of each number to be 132/6 =22\n",
    "\n",
    "so, O=[16 ,20 ,25 ,14 ,29 ,28 ]  & E=[22 ,22 ,22 ,22 ,22 ,22 ]\n",
    "\n",
    "Let's consider significance level = 5% , alpha=0.05.\n",
    "Degree of freedom = p^-1 = 6-1 =5\n",
    "So, chi(0.05) = 11.070 from chi-table"
   ]
  },
  {
   "cell_type": "code",
   "execution_count": 71,
   "metadata": {},
   "outputs": [],
   "source": [
    "O=[ 16, 20, 25, 14, 29, 28] \n",
    "E= [22, 22, 22, 22, 22, 22 ]\n",
    "\n",
    "def biased_check(O,E,ch=1):\n",
    "    chi=0\n",
    "    for i in range(len(O)):\n",
    "        chi = chi + (O[i]-E[i])**2/E[i]\n",
    "    if chi < ch:\n",
    "        print(\"Null Hypothesis is accepted... \")\n",
    "        print(\"so,The die is unbiased..\")\n",
    "    else:\n",
    "        print(\"Null Hypothesis is rejected...\")\n",
    "        print(\"so,The die is biased....\")\n",
    "    return round(chi,3)  "
   ]
  },
  {
   "cell_type": "code",
   "execution_count": 72,
   "metadata": {},
   "outputs": [
    {
     "name": "stdout",
     "output_type": "stream",
     "text": [
      "Null Hypothesis is accepted... \n",
      "so,The die is unbiased..\n"
     ]
    },
    {
     "data": {
      "text/plain": [
       "9.0"
      ]
     },
     "execution_count": 72,
     "metadata": {},
     "output_type": "execute_result"
    }
   ],
   "source": [
    "biased_check(O,E,ch=11.070)"
   ]
  },
  {
   "cell_type": "markdown",
   "metadata": {},
   "source": [
    "# Problem Statement 18:\n",
    "In a certain town, there are about one million eligible voters. A simple random\n",
    "sample of 10,000 eligible voters was chosen to study the relationship between\n",
    "gender and participation in the last election. The results are summarized in the\n",
    "following 2X2 (read two by two) contingency table:\n",
    "\n",
    "                                  \n",
    "voted ----- Men = 2792_______Women=3591\n",
    "\n",
    "Not voted---------Men= 1486____Women=2131\n",
    "\n",
    "We would want to check whether being a man or a woman (columns) is independent of\n",
    "having voted in the last election (rows). In other words, is “gender and voting independent”?"
   ]
  },
  {
   "cell_type": "code",
   "execution_count": 84,
   "metadata": {},
   "outputs": [
    {
     "name": "stdout",
     "output_type": "stream",
     "text": [
      "2731.0\n",
      "3652.0\n",
      "1547.0\n",
      "2070.0\n"
     ]
    }
   ],
   "source": [
    "#The observed table with totals included is:\n",
    "M_voted=2792\n",
    "w_voted=3591\n",
    "Tot_voted=6383\n",
    "M_notvoted=1486\n",
    "w_notvoted=2131\n",
    "Tot_notvoted=3617\n",
    "M_Tot=4278\n",
    "w_Tot=5722\n",
    "Total=10000\n",
    "Expected_value_Mvoted=(Tot_voted*M_Tot)/Total\n",
    "Expected_value_Wvoted=(Tot_voted*w_Tot)/Total\n",
    "print(round((Expected_value_Mvoted),0))\n",
    "print(round((Expected_value_Wvoted),0))\n",
    "Expected_value_Mnvoted=(Tot_notvoted*M_Tot)/Total\n",
    "Expected_value_Wnvoted=(Tot_notvoted*w_Tot)/Total\n",
    "print(round((Expected_value_Mnvoted),0))\n",
    "print(round((Expected_value_Wnvoted),0))"
   ]
  },
  {
   "cell_type": "code",
   "execution_count": 81,
   "metadata": {},
   "outputs": [
    {
     "data": {
      "text/plain": [
       "(6383, 3617)"
      ]
     },
     "execution_count": 81,
     "metadata": {},
     "output_type": "execute_result"
    }
   ],
   "source": [
    "#The Expectation table with totals included is:\n",
    "M_voted=2731\n",
    "w_voted=3652\n",
    "Tot_voted=(2731+3652)\n",
    "M_notvoted=1547\n",
    "w_notvoted=2070\n",
    "Tot_notvoted=(1547+2070)\n",
    "Tot_voted,Tot_notvoted"
   ]
  },
  {
   "cell_type": "markdown",
   "metadata": {},
   "source": [
    "Here, o=[2792 , 3591 , 1486 ,2131]\n",
    "E=[2731 , 3652 , 1547 ,2070] and degree of freedom will be (2-1)*(2-1)=1\n",
    "\n",
    "Let's Assume, significance level = 5% , alpha=0.05\n",
    "\n",
    "so, according to chi table, chi(0.05)=3.841"
   ]
  },
  {
   "cell_type": "code",
   "execution_count": 91,
   "metadata": {},
   "outputs": [],
   "source": [
    "O=[2792 , 3591 , 1486 ,2131]\n",
    "E=[2731 , 3652 , 1547 ,2070]\n",
    "def voting_check(O,E,ch=1):\n",
    "    chi=0\n",
    "    for i in range(len(O)):\n",
    "        chi = chi + (O[i]-E[i])**2/E[i]\n",
    "    if chi < ch:\n",
    "        print(\"Null Hypothesis is accepted...\")\n",
    "        print(\"So, gender and voting are independent\")\n",
    "    else:\n",
    "        print(\"Null Hypothesis is rejected...\")\n",
    "        print(\"So, gender and voting are dependent\")\n",
    "    return round(chi,3)  "
   ]
  },
  {
   "cell_type": "code",
   "execution_count": 92,
   "metadata": {},
   "outputs": [
    {
     "name": "stdout",
     "output_type": "stream",
     "text": [
      "Null Hypothesis is rejected...\n",
      "So, gender and voting are dependent\n"
     ]
    },
    {
     "data": {
      "text/plain": [
       "6.584"
      ]
     },
     "execution_count": 92,
     "metadata": {},
     "output_type": "execute_result"
    }
   ],
   "source": [
    "voting_check(O,E,ch=3.841)"
   ]
  },
  {
   "cell_type": "markdown",
   "metadata": {},
   "source": [
    "# Problem Statement 19:\n",
    "A sample of 100 voters are asked which of four candidates they would vote for in an\n",
    "election. The number supporting each candidate is given below:\n",
    "\n",
    "Higgins = 41   Reardon = 19   white = 24    charlton = 16  \n",
    "\n",
    "\n",
    "Do the data suggest that all candidates are equally popular? [Chi-Square = 14.96,\n",
    "with 3 df, 𝑝^<0.05 ]."
   ]
  },
  {
   "cell_type": "markdown",
   "metadata": {},
   "source": [
    "Here, we should expect the frequency of each number to be 100/4 =25\n",
    "\n",
    "O = [41 , 19 ,24 ,16] E = [25 , 25 ,25 ,25]"
   ]
  },
  {
   "cell_type": "code",
   "execution_count": 96,
   "metadata": {},
   "outputs": [],
   "source": [
    "O = [41 , 19 ,24 ,16] \n",
    "E = [25 , 25 ,25 ,25]\n",
    "def popularity_check(O,E,ch=1):\n",
    "    chi=0\n",
    "    for i in range(len(O)):\n",
    "        chi = chi + (O[i]-E[i])**2/E[i]\n",
    "    if chi < ch:\n",
    "        print(\"Null Hypothesis is accepted... \")\n",
    "        print(\"so,all candidates are equally popular..\")\n",
    "    else:\n",
    "        print(\"Null Hypothesis is rejected...\")\n",
    "        print(\"so,all candidates are not equally popular\")\n",
    "    return round(chi,3)"
   ]
  },
  {
   "cell_type": "code",
   "execution_count": 97,
   "metadata": {},
   "outputs": [
    {
     "name": "stdout",
     "output_type": "stream",
     "text": [
      "Null Hypothesis is accepted... \n",
      "so,all candidates are equally popular..\n"
     ]
    },
    {
     "data": {
      "text/plain": [
       "14.96"
      ]
     },
     "execution_count": 97,
     "metadata": {},
     "output_type": "execute_result"
    }
   ],
   "source": [
    "popularity_check(O,E,ch=14.96)"
   ]
  },
  {
   "cell_type": "markdown",
   "metadata": {},
   "source": [
    "#    Problem Statement 20:\n",
    "Children of three ages are asked to indicate their preference for three photographs of\n",
    "adults. Do the data suggest that there is a significant relationship between age and\n",
    "photograph preference? What is wrong with this study? [Chi-Square = 29.6, with 4\n",
    "df: 𝑝 < 0.05]\n",
    "\n",
    "                                               \n",
    "Age of child: 5-6 years:          \n",
    "A = 18\n",
    "\n",
    "B = 22\n",
    "\n",
    "C = 20\n",
    "\n",
    "Age of child: 7-8 years:          \n",
    "A = 2\n",
    "\n",
    "B = 28 \n",
    "\n",
    "C = 40\n",
    "\n",
    "\n",
    "Age of child: 9-10 years:          \n",
    "A = 20\n",
    "\n",
    "B = 10\n",
    "\n",
    "C = 40                               "
   ]
  },
  {
   "cell_type": "markdown",
   "metadata": {},
   "source": [
    "Here , E = (row_total*column_total)/grand_total\n",
    "\n",
    "Age of child: 5-6 years:\n",
    "\n",
    "AE=(18+2+20)*18/(18+22+20)=12\n",
    "\n",
    "BE=(22+28+10)*18/(18+22+20)=18\n",
    "\n",
    "CE=(20+40+40)*18/(18+22+20)=30\n",
    "\n",
    "Age of child: 7-8 years:\n",
    "\n",
    "AE=(18+2+20)*26/(28+2+40)=14\n",
    "\n",
    "BE=(22+28+10)*25/(28+2+40)=21\n",
    "\n",
    "CE=(20+40+40)*24/(28+2+40)=35\n",
    "\n",
    "Age of child: 9-10 years:\n",
    "\n",
    "AE=(18+2+20)*26/(20+10+40)=14\n",
    "\n",
    "BE=(22+28+10)*25/(28+2+40)=21\n",
    "\n",
    "CE=(20+40+40)*24/(28+2+40)=35\n",
    "\n",
    "According to that we get , E =[12, 18 , 30  ,14, 21, 35, 14, 21, 35 ]\n",
    "\n",
    "O=[18 , 22 ,20 ,2 ,28 ,40 ,20 ,10 ,40]"
   ]
  },
  {
   "cell_type": "code",
   "execution_count": 98,
   "metadata": {},
   "outputs": [],
   "source": [
    "O=[18 , 22 ,20 ,2 ,28 ,40 ,20 ,10 ,40]\n",
    "E =[12, 18 , 30  ,14, 21, 35, 14, 21, 35 ]\n",
    "\n",
    "def relation(O,E,ch=1):\n",
    "    chi=0\n",
    "    for i in range(len(O)):\n",
    "        chi = chi + (O[i]-E[i])**2/E[i]\n",
    "    if chi < ch:\n",
    "        print(\"Null Hypothesis is accepted... \")\n",
    "        print(\"so,there is no significant relationship between the age of child and the photographer preference..\")\n",
    "    else:\n",
    "        print(\"Null Hypothesis is rejected...\")\n",
    "        print(\"so,there is  significant relationship between the age of child and the photographer preference..\")\n",
    "    return round(chi,3)"
   ]
  },
  {
   "cell_type": "code",
   "execution_count": 99,
   "metadata": {},
   "outputs": [
    {
     "name": "stdout",
     "output_type": "stream",
     "text": [
      "Null Hypothesis is rejected...\n",
      "so,there is  significant relationship between the age of child and the photographer preference..\n"
     ]
    },
    {
     "data": {
      "text/plain": [
       "29.603"
      ]
     },
     "execution_count": 99,
     "metadata": {},
     "output_type": "execute_result"
    }
   ],
   "source": [
    "relation(O,E,ch=29.6)"
   ]
  },
  {
   "cell_type": "markdown",
   "metadata": {},
   "source": [
    "# Problem Statement 21:\n",
    "A study of conformity using the Asch paradigm involved two conditions: one where\n",
    "one confederate supported the true judgement and another where no confederate\n",
    "gave the correct response.\n",
    "\n",
    "conform : \n",
    "\n",
    "support = 18\n",
    "\n",
    "No support = 40\n",
    "\n",
    "No conform:\n",
    "\n",
    "support = 32\n",
    "\n",
    "No support = 10\n",
    "\n",
    "Is there a significant difference between the \"support\" and \"no support\" conditions in the\n",
    "frequency with which individuals are likely to conform? [Chi-Square = 19.87, with 1 df:\n",
    "𝑝 < 0.05].\n"
   ]
  },
  {
   "cell_type": "markdown",
   "metadata": {},
   "source": [
    "It is from famous Asche conformity studies in 1920,so here,\n",
    "O=[ 18 , 40 , 32 , 10 ]\n",
    "\n",
    "E = [29 , 29 , 21 , 21 ]"
   ]
  },
  {
   "cell_type": "code",
   "execution_count": 1,
   "metadata": {},
   "outputs": [],
   "source": [
    "O=[ 18 , 40 , 32 , 10 ]\n",
    "E = [29 , 29 , 21 , 21 ]\n",
    "\n",
    "def Asche_conformity(O,E,ch=1):\n",
    "    chi=0\n",
    "    for i in range(len(O)):\n",
    "        chi = chi + (O[i]-E[i])**2/E[i]\n",
    "    if chi < ch:\n",
    "        print(\"Null Hypothesis is accepted... \")\n",
    "        print(\"so,there is a significant difference\" )\n",
    "    else:\n",
    "        print(\"Null Hypothesis is rejected...\")\n",
    "        print(\"so,there is not any significant difference\" )\n",
    "    return round(chi,3)  "
   ]
  },
  {
   "cell_type": "code",
   "execution_count": 2,
   "metadata": {},
   "outputs": [
    {
     "name": "stdout",
     "output_type": "stream",
     "text": [
      "Null Hypothesis is accepted... \n",
      "so,there is a significant difference\n"
     ]
    },
    {
     "data": {
      "text/plain": [
       "19.869"
      ]
     },
     "execution_count": 2,
     "metadata": {},
     "output_type": "execute_result"
    }
   ],
   "source": [
    "Asche_conformity(O,E,ch=19.87)"
   ]
  },
  {
   "cell_type": "markdown",
   "metadata": {},
   "source": [
    "# Problem Statement 22:\n",
    "We want to test whether short people differ with respect to their leadership qualities\n",
    "(Genghis Khan, Adolf Hitler and Napoleon were all stature-deprived, and how many midget\n",
    "MP's are there?) The following table shows the frequencies with which 43 short people and\n",
    "52 tall people were categorized as \"leaders\", \"followers\" or as \"unclassifiable\". Is there a\n",
    "relationship between height and leadership qualities?\n",
    "[Chi-Square = 10.71, with 2 df: 𝑝 < 0.01].\n",
    "\n",
    "Short:Leader=12\t\n",
    "\n",
    "Tall:Leader = 32\n",
    "\n",
    "Follower : short =22\n",
    "\n",
    "Tall = 14\n",
    "\n",
    "Unclassified: short = 9\t\n",
    "\n",
    "Tall = 6"
   ]
  },
  {
   "cell_type": "code",
   "execution_count": 4,
   "metadata": {},
   "outputs": [],
   "source": [
    "O=[12 ,32 ,22 ,14 ,9 ,6]\n",
    "E=[19.92 , 24.08 ,16.29 , 19.71 ,6.76 , 8.21 ]\n",
    "def relation(O,E,ch=1):\n",
    "    chi=0\n",
    "    for i in range(len(O)):\n",
    "        chi = chi + (O[i]-E[i])**2/E[i]\n",
    "    if chi < ch:\n",
    "        print(\"Null Hypothesis is accepted... \")\n",
    "        print(\"so,there is a relationship between height and leadership qualities.\" )\n",
    "    else:\n",
    "        print(\"Null Hypothesis is rejected...\")\n",
    "        print(\"o,there is a no relationship between height and leadership qualities.\" )\n",
    "    return round(chi,3)  "
   ]
  },
  {
   "cell_type": "code",
   "execution_count": 5,
   "metadata": {},
   "outputs": [
    {
     "name": "stdout",
     "output_type": "stream",
     "text": [
      "Null Hypothesis is rejected...\n",
      "o,there is a no relationship between height and leadership qualities.\n"
     ]
    },
    {
     "data": {
      "text/plain": [
       "10.747"
      ]
     },
     "execution_count": 5,
     "metadata": {},
     "output_type": "execute_result"
    }
   ],
   "source": [
    "relation(O,E,ch=10.71)"
   ]
  },
  {
   "cell_type": "markdown",
   "metadata": {},
   "source": [
    "# Problem Statement 23:\n",
    "Each respondent in the Current Population Survey of March 1993 was classified as\n",
    "employed, unemployed, or outside the labor force. The results for men in California age 35-\n",
    "44 can be cross-tabulated by marital status, as follows:\n",
    "            \n",
    "Employed :---- \n",
    "\n",
    "Married = 679  \n",
    "\n",
    "Widowed, divorced or separated = 103  \n",
    "\n",
    "Never married =114\n",
    "\n",
    "Unemployed:-----  \n",
    "\n",
    "Married = 63 \n",
    "\n",
    "Widowed, divorced or separated = 10 \n",
    "\n",
    "Never married = 20\n",
    "\n",
    "Not in labor force :----\n",
    "\n",
    "Married = 42          \n",
    "\n",
    "Widowed, divorced or separated = 18               \n",
    "\n",
    "Never married = 25\n",
    "\n",
    "Men of different marital status seem to have different distributions of labor force status. Or is\n",
    "this just chance variation? (you may assume the table results from a simple random\n",
    "sample.)\n"
   ]
  },
  {
   "cell_type": "code",
   "execution_count": 8,
   "metadata": {},
   "outputs": [],
   "source": [
    "dict = {'Married':[679,63,42],'Wid_div_sep':[103,10,18],'Never_married':[114,20,25]}"
   ]
  },
  {
   "cell_type": "code",
   "execution_count": 11,
   "metadata": {},
   "outputs": [
    {
     "data": {
      "text/html": [
       "<div>\n",
       "<style scoped>\n",
       "    .dataframe tbody tr th:only-of-type {\n",
       "        vertical-align: middle;\n",
       "    }\n",
       "\n",
       "    .dataframe tbody tr th {\n",
       "        vertical-align: top;\n",
       "    }\n",
       "\n",
       "    .dataframe thead th {\n",
       "        text-align: right;\n",
       "    }\n",
       "</style>\n",
       "<table border=\"1\" class=\"dataframe\">\n",
       "  <thead>\n",
       "    <tr style=\"text-align: right;\">\n",
       "      <th></th>\n",
       "      <th>Married</th>\n",
       "      <th>Wid_div_sep</th>\n",
       "      <th>Never_married</th>\n",
       "    </tr>\n",
       "  </thead>\n",
       "  <tbody>\n",
       "    <tr>\n",
       "      <th>Employed</th>\n",
       "      <td>679</td>\n",
       "      <td>103</td>\n",
       "      <td>114</td>\n",
       "    </tr>\n",
       "    <tr>\n",
       "      <th>Unemployed</th>\n",
       "      <td>63</td>\n",
       "      <td>10</td>\n",
       "      <td>20</td>\n",
       "    </tr>\n",
       "    <tr>\n",
       "      <th>Not_in_labor_Force</th>\n",
       "      <td>42</td>\n",
       "      <td>18</td>\n",
       "      <td>25</td>\n",
       "    </tr>\n",
       "  </tbody>\n",
       "</table>\n",
       "</div>"
      ],
      "text/plain": [
       "                    Married  Wid_div_sep  Never_married\n",
       "Employed                679          103            114\n",
       "Unemployed               63           10             20\n",
       "Not_in_labor_Force       42           18             25"
      ]
     },
     "execution_count": 11,
     "metadata": {},
     "output_type": "execute_result"
    }
   ],
   "source": [
    "df = pd.DataFrame(dict,index=['Employed','Unemployed','Not_in_labor_Force'])\n",
    "df"
   ]
  },
  {
   "cell_type": "code",
   "execution_count": 23,
   "metadata": {},
   "outputs": [],
   "source": [
    "Mm = df.Married.mean()\n",
    "Wm = df.Wid_div_sep.mean()\n",
    "Nm = df.Never_married.mean()\n",
    "Em = df.loc['Employed'].mean()\n",
    "Um = df.loc['Unemployed'].mean()\n",
    "NLFm = df.loc['Not_in_labor_Force'].mean()\n",
    "lst1 = [Mm,Wm,Nm]\n",
    "lst2 = [Em,Um,NLFm]"
   ]
  },
  {
   "cell_type": "code",
   "execution_count": 45,
   "metadata": {},
   "outputs": [
    {
     "data": {
      "text/plain": [
       "Index(['Married', 'Wid_div_sep', 'Never_married', 'Mean'], dtype='object')"
      ]
     },
     "execution_count": 45,
     "metadata": {},
     "output_type": "execute_result"
    }
   ],
   "source": [
    "df['Mean']=lst2\n",
    "df.columns"
   ]
  },
  {
   "cell_type": "code",
   "execution_count": 55,
   "metadata": {},
   "outputs": [
    {
     "data": {
      "text/html": [
       "<div>\n",
       "<style scoped>\n",
       "    .dataframe tbody tr th:only-of-type {\n",
       "        vertical-align: middle;\n",
       "    }\n",
       "\n",
       "    .dataframe tbody tr th {\n",
       "        vertical-align: top;\n",
       "    }\n",
       "\n",
       "    .dataframe thead th {\n",
       "        text-align: right;\n",
       "    }\n",
       "</style>\n",
       "<table border=\"1\" class=\"dataframe\">\n",
       "  <thead>\n",
       "    <tr style=\"text-align: right;\">\n",
       "      <th></th>\n",
       "      <th>Married</th>\n",
       "      <th>Wid_div_sep</th>\n",
       "      <th>Never_married</th>\n",
       "    </tr>\n",
       "  </thead>\n",
       "  <tbody>\n",
       "    <tr>\n",
       "      <th>mean</th>\n",
       "      <td>261.333333</td>\n",
       "      <td>43.666667</td>\n",
       "      <td>53.0</td>\n",
       "    </tr>\n",
       "  </tbody>\n",
       "</table>\n",
       "</div>"
      ],
      "text/plain": [
       "         Married  Wid_div_sep  Never_married\n",
       "mean  261.333333    43.666667           53.0"
      ]
     },
     "execution_count": 55,
     "metadata": {},
     "output_type": "execute_result"
    }
   ],
   "source": [
    "#dict2 = {'Married', 'Wid_div_sep', 'Never_married', 'Mean'}\n",
    "df1 = pd.DataFrame(lst1,columns=['mean'],index=['Married', 'Wid_div_sep', 'Never_married']).T\n",
    "df1"
   ]
  },
  {
   "cell_type": "code",
   "execution_count": 58,
   "metadata": {},
   "outputs": [],
   "source": [
    "df3 = pd.concat([df,df1],0)"
   ]
  },
  {
   "cell_type": "code",
   "execution_count": 59,
   "metadata": {},
   "outputs": [
    {
     "data": {
      "text/html": [
       "<div>\n",
       "<style scoped>\n",
       "    .dataframe tbody tr th:only-of-type {\n",
       "        vertical-align: middle;\n",
       "    }\n",
       "\n",
       "    .dataframe tbody tr th {\n",
       "        vertical-align: top;\n",
       "    }\n",
       "\n",
       "    .dataframe thead th {\n",
       "        text-align: right;\n",
       "    }\n",
       "</style>\n",
       "<table border=\"1\" class=\"dataframe\">\n",
       "  <thead>\n",
       "    <tr style=\"text-align: right;\">\n",
       "      <th></th>\n",
       "      <th>Married</th>\n",
       "      <th>Wid_div_sep</th>\n",
       "      <th>Never_married</th>\n",
       "      <th>Mean</th>\n",
       "    </tr>\n",
       "  </thead>\n",
       "  <tbody>\n",
       "    <tr>\n",
       "      <th>Employed</th>\n",
       "      <td>679.000000</td>\n",
       "      <td>103.000000</td>\n",
       "      <td>114.0</td>\n",
       "      <td>298.666667</td>\n",
       "    </tr>\n",
       "    <tr>\n",
       "      <th>Unemployed</th>\n",
       "      <td>63.000000</td>\n",
       "      <td>10.000000</td>\n",
       "      <td>20.0</td>\n",
       "      <td>31.000000</td>\n",
       "    </tr>\n",
       "    <tr>\n",
       "      <th>Not_in_labor_Force</th>\n",
       "      <td>42.000000</td>\n",
       "      <td>18.000000</td>\n",
       "      <td>25.0</td>\n",
       "      <td>28.333333</td>\n",
       "    </tr>\n",
       "    <tr>\n",
       "      <th>mean</th>\n",
       "      <td>261.333333</td>\n",
       "      <td>43.666667</td>\n",
       "      <td>53.0</td>\n",
       "      <td>NaN</td>\n",
       "    </tr>\n",
       "  </tbody>\n",
       "</table>\n",
       "</div>"
      ],
      "text/plain": [
       "                       Married  Wid_div_sep  Never_married        Mean\n",
       "Employed            679.000000   103.000000          114.0  298.666667\n",
       "Unemployed           63.000000    10.000000           20.0   31.000000\n",
       "Not_in_labor_Force   42.000000    18.000000           25.0   28.333333\n",
       "mean                261.333333    43.666667           53.0         NaN"
      ]
     },
     "execution_count": 59,
     "metadata": {},
     "output_type": "execute_result"
    }
   ],
   "source": [
    "df3"
   ]
  },
  {
   "cell_type": "markdown",
   "metadata": {},
   "source": [
    "So, degree of freedom =(3-1)*(3-1)=4\n",
    "\n",
    "chi(0.05 ,4)=9.487729"
   ]
  },
  {
   "cell_type": "code",
   "execution_count": 63,
   "metadata": {},
   "outputs": [],
   "source": [
    "O=[679 , 103 , 114 ,63 ,10 ,20 ,42 ,18 ,25]\n",
    "E=[654.06 , 109.29 , 132.65 , 67.89 ,   11.34 , 13.77 , 62.05 , 10.37 , 12.58 ]\n",
    "def survey(O,E,ch=1):\n",
    "    chi=0\n",
    "    for i in range(len(O)):\n",
    "        chi = chi + (O[i]-E[i])**2/E[i]\n",
    "    if chi < ch:\n",
    "        print(\"Null Hypothesis is accepted... \")\n",
    "        print(\"so,there is a relationship between rows and columns.\" )\n",
    "    else:\n",
    "        print(\"Null Hypothesis is rejected...\")\n",
    "        print(\"so,there is a no relationship between rows and columns.\" )\n",
    "    return round(chi,3)"
   ]
  },
  {
   "cell_type": "code",
   "execution_count": 64,
   "metadata": {},
   "outputs": [
    {
     "name": "stdout",
     "output_type": "stream",
     "text": [
      "Null Hypothesis is rejected...\n",
      "so,there is a no relationship between rows and columns.\n"
     ]
    },
    {
     "data": {
      "text/plain": [
       "31.619"
      ]
     },
     "execution_count": 64,
     "metadata": {},
     "output_type": "execute_result"
    }
   ],
   "source": [
    " survey(O,E,ch=9.487729)"
   ]
  },
  {
   "cell_type": "code",
   "execution_count": null,
   "metadata": {},
   "outputs": [],
   "source": []
  },
  {
   "cell_type": "code",
   "execution_count": null,
   "metadata": {},
   "outputs": [],
   "source": []
  },
  {
   "cell_type": "code",
   "execution_count": null,
   "metadata": {},
   "outputs": [],
   "source": []
  }
 ],
 "metadata": {
  "kernelspec": {
   "display_name": "Python 3",
   "language": "python",
   "name": "python3"
  },
  "language_info": {
   "codemirror_mode": {
    "name": "ipython",
    "version": 3
   },
   "file_extension": ".py",
   "mimetype": "text/x-python",
   "name": "python",
   "nbconvert_exporter": "python",
   "pygments_lexer": "ipython3",
   "version": "3.7.6"
  }
 },
 "nbformat": 4,
 "nbformat_minor": 4
}
